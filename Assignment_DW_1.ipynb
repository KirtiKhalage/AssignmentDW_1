{
 "cells": [
  {
   "cell_type": "markdown",
   "id": "771aa55e",
   "metadata": {},
   "source": [
    "# 1. Create a null vector of size 10 but the fifth value which is 1."
   ]
  },
  {
   "cell_type": "code",
   "execution_count": 6,
   "id": "0c36be90",
   "metadata": {},
   "outputs": [
    {
     "name": "stdout",
     "output_type": "stream",
     "text": [
      "[0. 0. 0. 0. 1. 0. 0. 0. 0. 0.]\n"
     ]
    }
   ],
   "source": [
    "import numpy as np\n",
    "null_vector = np.zeros(10)\n",
    "null_vector[4]=1\n",
    "print(null_vector)"
   ]
  },
  {
   "cell_type": "markdown",
   "id": "ab56476f",
   "metadata": {},
   "source": [
    "# 2. Create a vector with values ranging from 10 to 49."
   ]
  },
  {
   "cell_type": "code",
   "execution_count": 9,
   "id": "457e7022",
   "metadata": {},
   "outputs": [
    {
     "name": "stdout",
     "output_type": "stream",
     "text": [
      "[10 11 12 13 14 15 16 17 18 19 20 21 22 23 24 25 26 27 28 29 30 31 32 33\n",
      " 34 35 36 37 38 39 40 41 42 43 44 45 46 47 48 49]\n"
     ]
    }
   ],
   "source": [
    "v = np.arange(10,50)\n",
    "print(v)"
   ]
  },
  {
   "cell_type": "markdown",
   "id": "f5534e5f",
   "metadata": {},
   "source": [
    "# 3. Create a 3x3 matrix with values ranging from 0 to 8"
   ]
  },
  {
   "cell_type": "code",
   "execution_count": 11,
   "id": "8f2b385c",
   "metadata": {},
   "outputs": [
    {
     "name": "stdout",
     "output_type": "stream",
     "text": [
      "[[0 1 2]\n",
      " [3 4 5]\n",
      " [6 7 8]]\n"
     ]
    }
   ],
   "source": [
    "x = np.array([0,1,2,3,4,5,6,7,8])\n",
    "y = x.reshape(3,3)\n",
    "print(y)"
   ]
  },
  {
   "cell_type": "markdown",
   "id": "dd0dcc4e",
   "metadata": {},
   "source": [
    "# 4. Find indices of non-zero elements from [1,2,0,0,4,0]"
   ]
  },
  {
   "cell_type": "code",
   "execution_count": 15,
   "id": "9aa3b9a9",
   "metadata": {},
   "outputs": [
    {
     "name": "stdout",
     "output_type": "stream",
     "text": [
      "[0 1 4]\n"
     ]
    }
   ],
   "source": [
    "a = np.array([1,2,0,0,4,0])\n",
    "y = np.where(a!=0)[0]\n",
    "print(y)"
   ]
  },
  {
   "cell_type": "markdown",
   "id": "5d31d562",
   "metadata": {},
   "source": [
    "# 5. Create a 10x10 array with random values and find the minimum and maximum values."
   ]
  },
  {
   "cell_type": "code",
   "execution_count": 29,
   "id": "45200780",
   "metadata": {},
   "outputs": [
    {
     "name": "stdout",
     "output_type": "stream",
     "text": [
      "[[0.79341068 0.93080965 0.99430993 0.62729416 0.2713858  0.66251667\n",
      "  0.44046928 0.5941412  0.37583721 0.89296829]\n",
      " [0.45925818 0.95366207 0.63427069 0.96046909 0.68998509 0.91713988\n",
      "  0.68771184 0.51973185 0.73972402 0.43848872]\n",
      " [0.42903325 0.40692628 0.19743768 0.67233569 0.7886897  0.55294652\n",
      "  0.96041225 0.02585791 0.07004019 0.16005672]\n",
      " [0.16502509 0.73442651 0.22644813 0.49841664 0.78494323 0.40965732\n",
      "  0.80032047 0.12292214 0.81025033 0.37738489]\n",
      " [0.82551883 0.02444357 0.9847426  0.80314941 0.11597013 0.03060373\n",
      "  0.08114622 0.26175036 0.80622957 0.66840604]\n",
      " [0.44364239 0.89301856 0.0529202  0.93887906 0.70120435 0.26452592\n",
      "  0.2843419  0.62812915 0.91521866 0.69049656]\n",
      " [0.89197811 0.35170063 0.02551538 0.00960237 0.05226757 0.01485481\n",
      "  0.17602012 0.55968082 0.37296835 0.2243858 ]\n",
      " [0.94355969 0.31784133 0.61179459 0.9997754  0.89218261 0.93212149\n",
      "  0.15925447 0.61726933 0.56050861 0.43941025]\n",
      " [0.01271349 0.28497988 0.87764325 0.58609855 0.32491075 0.81315595\n",
      "  0.41945785 0.48424458 0.94861395 0.25794582]\n",
      " [0.02105027 0.62282556 0.66025098 0.32976243 0.11750883 0.03933831\n",
      "  0.35295462 0.10557867 0.88549693 0.26856032]]\n",
      "Minimum of r is :  0.009602372547282911\n",
      "Maximum of r is :  0.9997754010147317\n"
     ]
    }
   ],
   "source": [
    "r = np.random.random((10,10))\n",
    "minimum = r.min()\n",
    "maximum = r.max()\n",
    "print(r)\n",
    "print(\"Minimum of r is : \", minimum)\n",
    "print(\"Maximum of r is : \", maximum)"
   ]
  },
  {
   "cell_type": "markdown",
   "id": "ef9a2e5c",
   "metadata": {},
   "source": [
    "# 6. Create a random vector of size 30 and find the mean value.\n"
   ]
  },
  {
   "cell_type": "code",
   "execution_count": 37,
   "id": "33303a95",
   "metadata": {},
   "outputs": [
    {
     "name": "stdout",
     "output_type": "stream",
     "text": [
      "[0.78095147 0.25189165 0.09483512 0.44920325 0.43753183 0.54724906\n",
      " 0.26322631 0.74875327 0.0317553  0.08349685 0.99351084 0.04111054\n",
      " 0.853049   0.85470416 0.56412089 0.30314849 0.07740176 0.94035286\n",
      " 0.71789302 0.41186856 0.068542   0.28244408 0.23310191 0.68887545\n",
      " 0.05012558 0.04148045 0.56241172 0.10593255 0.06073799 0.15275164] \n",
      "\n",
      "Mean  of random vector is : 0.38974858716423505\n"
     ]
    }
   ],
   "source": [
    "c = np.random.random(30)\n",
    "print(c,\"\\n\")\n",
    "print(\"Mean  of random vector is :\", c.mean())\n",
    "\n"
   ]
  }
 ],
 "metadata": {
  "kernelspec": {
   "display_name": "Python 3 (ipykernel)",
   "language": "python",
   "name": "python3"
  },
  "language_info": {
   "codemirror_mode": {
    "name": "ipython",
    "version": 3
   },
   "file_extension": ".py",
   "mimetype": "text/x-python",
   "name": "python",
   "nbconvert_exporter": "python",
   "pygments_lexer": "ipython3",
   "version": "3.9.13"
  }
 },
 "nbformat": 4,
 "nbformat_minor": 5
}
